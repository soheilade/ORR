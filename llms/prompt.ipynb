{
 "cells": [
  {
   "cell_type": "markdown",
   "metadata": {},
   "source": [
    "Lets starts with the basic model and ask its opinion about how to recycle electronics."
   ]
  },
  {
   "cell_type": "code",
   "execution_count": 18,
   "metadata": {},
   "outputs": [
    {
     "name": "stdout",
     "output_type": "stream",
     "text": [
      "Choice(finish_reason='stop', index=0, message=ChatCompletionMessage(content=\"Here are some steps to recycle electronics:\\n\\n1. Research local recycling programs: Look for local recycling centers or programs that accept electronics. Check with your city or town for specific information on their recycling facilities and guidelines.\\n\\n2. Check for manufacturer or retailer recycling programs: Many electronics manufacturers and retailers offer their own recycling programs. For example, Apple has an Apple Renew program where customers can trade in their old devices for recycling.\\n\\n3. Erase your personal data: Before recycling your electronics, make sure to remove all your personal data. Delete any sensitive information and perform a factory reset on your device to wipe it clean. This step is crucial to protect your privacy and prevent any potential data breaches.\\n\\n4. Gather your electronics: Collect all the electronic devices you wish to recycle. This may include computers, laptops, smartphones, tablets, printers, televisions, gaming consoles, and other electronic accessories.\\n\\n5. Remove batteries: Remove any batteries from your devices, as they may require separate recycling. Some recycling centers have specific battery recycling programs, or you can check with local retailers that accept batteries for recycling.\\n\\n6. Packaging: If you have the original packaging, such as boxes and Styrofoam, recycle them responsibly as well.\\n\\n7. Take it to a recycling center: Take your electronic devices to a designated recycling center or drop-off location. Be sure to follow their specific instructions and guidelines for dropping off your electronics.\\n\\n8. Mail-in or pick-up services: Some recycling programs offer mail-in options or pick-up services for larger items. Research local organizations or businesses that provide these services and follow their instructions for shipping or scheduling a pick-up.\\n\\n9. Donate or Sell: Consider donating or selling electronics that are still in good working condition. There may be local charities or organizations that accept used electronics or online platforms where you can list them for sale.\\n\\nRemember, not all electronics can be recycled in the same manner. Some devices may contain hazardous materials, so it's important to follow the recommended recycling guidelines to ensure their safe disposal.\", role='assistant', function_call=None, tool_calls=None))\n"
     ]
    }
   ],
   "source": [
    "from openai import OpenAI\n",
    "client = OpenAI()\n",
    "\n",
    "completion = client.chat.completions.create(\n",
    "  model=\"gpt-3.5-turbo\",\n",
    "  messages=[\n",
    "    {\"role\": \"user\", \"content\": \"how to recycle electronics?\"}\n",
    "  ]\n",
    ")\n",
    "\n",
    "print(completion.choices[0])\n"
   ]
  },
  {
   "cell_type": "markdown",
   "metadata": {},
   "source": [
    "The answer is too generic. There is no information about facilities in my geographics area.\n",
    "\n",
    "\n",
    "Now, lets give some instructions about how we are expecting the answer to be formatted."
   ]
  },
  {
   "cell_type": "code",
   "execution_count": null,
   "metadata": {},
   "outputs": [],
   "source": [
    "completion = client.chat.completions.create(\n",
    "  model=\"gpt-3.5-turbo\",\n",
    "  messages=[\n",
    "    {\"role\": \"system\", \"content\": \"You are a friendly and helpful teaching assistant. You explain concepts in great depth using simple terms, and you give examples to help people learn. At the end of each explanation, you ask a question to check for understanding\"},\n",
    "    {\"role\": \"user\", \"content\": \"how to recycle electronics?\"}\n",
    "  ]\n",
    ")\n",
    "print(completion.choices[0])"
   ]
  },
  {
   "cell_type": "markdown",
   "metadata": {},
   "source": [
    "The answer is basically the same as above with some twists, still too generic. Lets add some inofrmation about the specific electronics we want to recycle and give also our current location."
   ]
  },
  {
   "cell_type": "code",
   "execution_count": 19,
   "metadata": {},
   "outputs": [
    {
     "name": "stdout",
     "output_type": "stream",
     "text": [
      "Choice(finish_reason='stop', index=0, message=ChatCompletionMessage(content=\"To recycle a Motorola 4G Pro in Aalborg, you can follow these steps:\\n\\n1. Check with your local recycling center: Contact your local recycling center or waste management facility in Aalborg to inquire about their electronic waste recycling program. They will be able to provide you with specific instructions on how to recycle your Motorola 4G Pro.\\n\\n2. Remove personal data: Before recycling your device, make sure to back up any important data and then perform a factory reset to erase all personal information from the device. This will help protect your privacy.\\n\\n3. Prepare the device: Remove any accessories or additional components from the phone, such as the SIM card or memory card. These can be reused or recycled separately.\\n\\n4. Drop-off or collection: Once you have gathered all the necessary information and prepared the device, follow the instructions provided by the recycling center. They may have designated drop-off points or collection events where you can bring your Motorola 4G Pro for recycling.\\n\\nRemember, recycling your old phone is an environmentally responsible choice as it helps reduce electronic waste and promotes the reuse of valuable materials. Now, here's a question to check your understanding: What should you do before recycling your Motorola 4G Pro to protect your privacy?\", role='assistant', function_call=None, tool_calls=None))\n"
     ]
    }
   ],
   "source": [
    "completion = client.chat.completions.create(\n",
    "  model=\"gpt-3.5-turbo\",\n",
    "  messages=[\n",
    "    {\"role\": \"system\", \"content\": \"You are a friendly and helpful teaching assistant. You explain concepts in great depth using simple terms, and you give examples to help people learn. At the end of each explanation, you ask a question to check for understanding\"},\n",
    "    {\"role\": \"user\", \"content\": \"how to recycle motorolla 4g pro in Aalborg?\"}\n",
    "  ],\n",
    "  temperature=0,\n",
    ")\n",
    "print(completion.choices[0])"
   ]
  },
  {
   "cell_type": "markdown",
   "metadata": {},
   "source": [
    "Still there is no concreate step about where to go and how to finish off the recycling.\n",
    "\n",
    "'Once you have gathered all the necessary information and prepared the device, follow the instructions provided by the recycling center.'\n",
    "\n",
    "The question here is which recycling center and what instructions?"
   ]
  },
  {
   "cell_type": "code",
   "execution_count": 24,
   "metadata": {},
   "outputs": [
    {
     "name": "stdout",
     "output_type": "stream",
     "text": [
      "Choice(finish_reason='stop', index=0, message=ChatCompletionMessage(content=\"To recycle a Bosch washing machine, you have a few options:\\n\\n1. Contact the manufacturer: Bosch may have a recycling program in place for their appliances. You can reach out to their customer service or check their website for information on how to recycle your specific model.\\n\\n2. Local recycling centers: Many cities have recycling centers or facilities that accept large appliances like washing machines. You can search online or contact your local waste management department to find out where you can drop off your Bosch washing machine for recycling.\\n\\n3. Retailer take-back programs: Some retailers offer take-back programs where you can return your old appliance when purchasing a new one. Check with appliance stores in your area to see if they have such a program in place.\\n\\nRemember, before recycling your washing machine, it's a good idea to disconnect it from any power sources and remove any personal items or accessories. Additionally, check with your local recycling center or waste management department for any specific guidelines or requirements for recycling large appliances.\", role='assistant', function_call=None, tool_calls=None))\n"
     ]
    }
   ],
   "source": [
    "completion = client.chat.completions.create(\n",
    "  model=\"gpt-3.5-turbo\",\n",
    "  messages=[\n",
    "    {\"role\": \"system\", \"content\": \"You are a friendly and helpful teaching assistant. You explain concepts in great depth using simple terms, and you give examples to help people learn. At the end of each explanation, you ask a question to check for understanding\"},\n",
    "    {\"role\": \"user\", \"content\": \"how to recycle electronics in Aalborg?\"},\n",
    "    {\"role\": \"assistant\", \"content\": \"which sort of electronices do you want to recycle?\"},\n",
    "    {\"role\": \"user\", \"content\": \"mobile phone\"},\n",
    "    {\"role\": \"assistant\", \"content\": \"you can bring them to following locations\"},\n",
    "    {\"role\": \"user\", \"content\": \"how to recycle bosch washing machine?\"},\n",
    "  ],\n",
    "  temperature=0,\n",
    ")\n",
    "print(completion.choices[0])\n"
   ]
  },
  {
   "cell_type": "markdown",
   "metadata": {},
   "source": [
    "Here it says \"Bosch May have a recycling program in place\". I am expecting that to be displayed. \"You can reach out to customer service on how to recycle\" -> this was my question.   "
   ]
  },
  {
   "cell_type": "markdown",
   "metadata": {},
   "source": [
    "This experiment shows that Generic AI models are too generic to answer specific questions and we need to collect some data to fine tune generic models."
   ]
  },
  {
   "cell_type": "code",
   "execution_count": null,
   "metadata": {},
   "outputs": [],
   "source": []
  }
 ],
 "metadata": {
  "kernelspec": {
   "display_name": "Python 3",
   "language": "python",
   "name": "python3"
  },
  "language_info": {
   "codemirror_mode": {
    "name": "ipython",
    "version": 3
   },
   "file_extension": ".py",
   "mimetype": "text/x-python",
   "name": "python",
   "nbconvert_exporter": "python",
   "pygments_lexer": "ipython3",
   "version": "3.11.5"
  }
 },
 "nbformat": 4,
 "nbformat_minor": 2
}
