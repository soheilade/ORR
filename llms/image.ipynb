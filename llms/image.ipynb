{
 "cells": [
  {
   "cell_type": "code",
   "execution_count": 1,
   "metadata": {},
   "outputs": [
    {
     "name": "stderr",
     "output_type": "stream",
     "text": [
      "2023-11-21 10:39:36.312401: W tensorflow/stream_executor/platform/default/dso_loader.cc:60] Could not load dynamic library 'libcudart.so.11.0'; dlerror: libcudart.so.11.0: cannot open shared object file: No such file or directory\n",
      "2023-11-21 10:39:36.312461: I tensorflow/stream_executor/cuda/cudart_stub.cc:29] Ignore above cudart dlerror if you do not have a GPU set up on your machine.\n",
      "2023-11-21 10:39:39.276132: I tensorflow/compiler/jit/xla_cpu_device.cc:41] Not creating XLA devices, tf_xla_enable_xla_devices not set\n",
      "2023-11-21 10:39:39.276982: W tensorflow/stream_executor/platform/default/dso_loader.cc:60] Could not load dynamic library 'libcuda.so.1'; dlerror: libcuda.so.1: cannot open shared object file: No such file or directory\n",
      "2023-11-21 10:39:39.277008: W tensorflow/stream_executor/cuda/cuda_driver.cc:326] failed call to cuInit: UNKNOWN ERROR (303)\n",
      "2023-11-21 10:39:39.277036: I tensorflow/stream_executor/cuda/cuda_diagnostics.cc:156] kernel driver does not appear to be running on this host (celty): /proc/driver/nvidia/version does not exist\n",
      "2023-11-21 10:39:39.277939: I tensorflow/compiler/jit/xla_gpu_device.cc:99] Not creating XLA devices, tf_xla_enable_xla_devices not set\n"
     ]
    },
    {
     "name": "stdout",
     "output_type": "stream",
     "text": [
      "/home/soheila/ORR/images/boschwm.jpg\n"
     ]
    },
    {
     "name": "stderr",
     "output_type": "stream",
     "text": [
      "2023-11-21 10:39:41.964529: I tensorflow/compiler/mlir/mlir_graph_optimization_pass.cc:116] None of the MLIR optimization passes are enabled (registered 2)\n",
      "2023-11-21 10:39:41.968091: I tensorflow/core/platform/profile_utils/cpu_utils.cc:112] CPU Frequency: 2799925000 Hz\n"
     ]
    },
    {
     "name": "stdout",
     "output_type": "stream",
     "text": [
      "iPod  :  31.157544255256653\n",
      "magnetic_compass  :  11.807137727737427\n",
      "loudspeaker  :  11.620327085256577\n",
      "washer  :  10.228317230939865\n",
      "spotlight  :  5.151406675577164\n"
     ]
    }
   ],
   "source": [
    "from imageai.Classification import ImageClassification\n",
    "import os\n",
    "\n",
    "\n",
    "execution_path = os.getcwd()\n",
    "prediction = ImageClassification()\n",
    "prediction.setModelTypeAsResNet50()\n",
    "prediction.setModelPath( execution_path + \"/resnet50_imagenet_tf.2.0.h5\")\n",
    "prediction.loadModel()\n",
    "\n",
    "image_path = execution_path +\"/images/boschwm.jpg\"\n",
    "print(image_path)\n",
    "predictions, percentage_probabilities = prediction.classifyImage(image_path, result_count=5)\n",
    "for index in range(len(predictions)):\n",
    "  print(predictions[index] , \" : \" , percentage_probabilities[index])\n",
    "\n"
   ]
  },
  {
   "cell_type": "markdown",
   "metadata": {},
   "source": [
    "so the imageai model thinks that our Bosch washing machine is an ipod, and then we ask the openai to give us recycling recommendations for the prediction with highest score (i.e., ipod)"
   ]
  },
  {
   "cell_type": "code",
   "execution_count": 3,
   "metadata": {},
   "outputs": [
    {
     "name": "stdout",
     "output_type": "stream",
     "text": [
      "Choice(finish_reason='stop', index=0, message=ChatCompletionMessage(content='Recycling your old iPod is a responsible way to dispose of it and reduce electronic waste. Here\\'s a step-by-step guide on how to recycle your iPod:\\n\\n1. Clear your iPod: Before recycling, make sure to backup any important data from your iPod using iTunes or iCloud. Then, erase all content and settings by going to \"Settings\" > \"General\" > \"Reset\" > \"Erase All Content and Settings\". This will ensure your personal information is removed from the device.\\n\\n2. Determine the recycling options: Check if the manufacturer, Apple, has a recycling program for iPods. Apple generally encourages customers to recycle their old devices through their trade-in programs or recycling initiatives. Visit the Apple website or contact their customer support for more information on the specific recycling programs available in your region.\\n\\n3. Retailers or e-recycling centers: Many retailers and e-recycling centers also accept old electronics for recycling. Check with local electronic stores, big-box retailers, or recycling centers in your area to see if they accept iPods for recycling. Some examples include Best Buy, Staples, or ecoATM.\\n\\n4. Mail-in recycling programs: Some companies offer mail-in programs where you can ship your iPod for recycling. They provide pre-paid shipping labels for your convenience. Research organizations or companies that specialize in electronic recycling, such as Recycle My Electronics, to see if they accept iPods through their mail-in programs.\\n\\n5. Donation opportunities: If your iPod is still functional and in good condition, consider donating it to someone in need. Local schools, community centers, charities, or non-profit organizations might appreciate the donation of an iPod for educational or recreational purposes.\\n\\n6. Proper disposal: If all recycling options are exhausted or not available, take your iPod to an authorized electronics recycling facility or a hazardous waste collection center. They have processes in place to safely dispose of electronic waste without harming the environment.\\n\\nRemember, it\\'s essential to recycle your iPod responsibly to prevent hazardous materials from ending up in landfills and to promote the reuse of valuable resources.', role='assistant', function_call=None, tool_calls=None))\n"
     ]
    }
   ],
   "source": [
    "from openai import OpenAI\n",
    "\n",
    "# finding recycling options for first prediction\n",
    "client = OpenAI()\n",
    "\n",
    "completion = client.chat.completions.create(\n",
    "  model=\"gpt-3.5-turbo\",\n",
    "  messages=[\n",
    "    {\"role\": \"user\", \"content\": \"how to recycle \" + str(predictions[0]) + \" ?\"}\n",
    "  ]\n",
    ")\n",
    "\n",
    "print(completion.choices[0])"
   ]
  },
  {
   "cell_type": "markdown",
   "metadata": {},
   "source": [
    "The recommendations are very generic, lets see if they become more customized if we use location.\n",
    "For example it says: chec if Apple, has a recycling program for iPods? I am expecting this to be already searched for me."
   ]
  },
  {
   "cell_type": "code",
   "execution_count": 3,
   "metadata": {},
   "outputs": [
    {
     "name": "stdout",
     "output_type": "stream",
     "text": [
      "Choice(finish_reason='stop', index=0, message=ChatCompletionMessage(content='To recycle your iPod in Milan, you can follow these steps:\\n\\n1. Look for a nearby Apple Store: Apple has a recycling program called \"Apple Trade In\" where you can trade in your old Apple devices, including iPods, for credit towards a new purchase. Locate the nearest Apple Store in Milan and visit their website or contact them directly to inquire about their recycling options.\\n\\n2. Check with local electronics stores: Some electronics retailers or specialized stores may accept electronics for recycling. They may have specific drop-off points or collection programs for electronic waste. Research and contact different stores in Milan to find out if they accept iPods for recycling.\\n\\n3. Contact recycling centers or waste management facilities: Check if there are any recycling centers or waste management facilities in Milan that accept electronic waste. These facilities often have designated areas for drop-off or collection of electronic devices. You can call or email these centers to inquire about iPod recycling and any specific requirements.\\n\\n4. Participate in local e-waste collection events: Keep an eye out for local e-waste collection events organized by municipalities or non-profit organizations. These events often provide opportunities to drop off old electronics for recycling. Stay updated on any announcements regarding such events in Milan.\\n\\n5. Use online recycling platforms: There are various online platforms and marketplace websites that allow you to sell or recycle electronics, including iPods. Look for reputable platforms available in Italy where you can list your iPod for recycling or find buyers who may want to repurpose it.\\n\\nRemember to erase all personal data from your iPod before recycling it. Follow Apple\\'s guidelines for data erasure or factory reset to ensure your privacy and security.', role='assistant', function_call=None, tool_calls=None))\n"
     ]
    }
   ],
   "source": [
    "from openai import OpenAI\n",
    "\n",
    "# finding recycling options for first prediction\n",
    "client = OpenAI()\n",
    "\n",
    "completion = client.chat.completions.create(\n",
    "  model=\"gpt-3.5-turbo\",\n",
    "  messages=[\n",
    "    {\"role\": \"user\", \"content\": \"how to recycle \" + str(predictions[0]) + \" in milano?\"}\n",
    "  ]\n",
    ")\n",
    "\n",
    "print(completion.choices[0])"
   ]
  },
  {
   "cell_type": "markdown",
   "metadata": {},
   "source": [
    "As shown the information is still generic, nothing specific about what are the recycling option in apple or local electronic stores."
   ]
  }
 ],
 "metadata": {
  "kernelspec": {
   "display_name": "Python 3",
   "language": "python",
   "name": "python3"
  },
  "language_info": {
   "codemirror_mode": {
    "name": "ipython",
    "version": 3
   },
   "file_extension": ".py",
   "mimetype": "text/x-python",
   "name": "python",
   "nbconvert_exporter": "python",
   "pygments_lexer": "ipython3",
   "version": "3.8.18"
  }
 },
 "nbformat": 4,
 "nbformat_minor": 2
}
