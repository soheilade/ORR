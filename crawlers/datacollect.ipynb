{
 "cells": [
  {
   "cell_type": "code",
   "execution_count": null,
   "metadata": {},
   "outputs": [],
   "source": [
    "import requests\n",
    "import time\n",
    "from bs4 import BeautifulSoup\n",
    "links = []\n",
    "for i in range(200):\n",
    "\n",
    "    res = requests.get(\n",
    "        'https://www.c40.org/case-studies/page/'+ str(i)+'/')\n",
    "    txt = res.text\n",
    "    status = res.status_code\n",
    "    print(str(i) + \" \" + str(status))\n",
    "    if status == 404:\n",
    "        break;\n",
    "    else:\n",
    "        soup = BeautifulSoup(res.content, 'html.parser')\n",
    "        articles = soup.select('h3')\n",
    "        for article in articles:\n",
    "            article_class = article.get('class')\n",
    "            #print(article_class)\n",
    "            if article_class[0] == 'article-list-item__heading':\n",
    "               article_link = article.select('a')[0].get('href')\n",
    "               links.append(article_link)\n",
    "    time.sleep(5)\n",
    "    print(\"next page\")\n",
    "print(links)\n"
   ]
  },
  {
   "cell_type": "code",
   "execution_count": null,
   "metadata": {},
   "outputs": [],
   "source": [
    "knowledge_dict = {}\n",
    "for link in links:\n",
    "    res = requests.get(link)\n",
    "    soup = BeautifulSoup(res.content, 'html.parser')\n",
    "    main = soup.select('main')[0]\n",
    "    divs = main.select('div')\n",
    "    title = ''\n",
    "    body=''\n",
    "    for d in divs:\n",
    "        #print(d.get('class').__contains__('article__header'))\n",
    "        div_class = d.get('class')\n",
    "        if div_class == None:\n",
    "            continue\n",
    "        if div_class.__contains__('article__header'):\n",
    "            title = d.select('h1')[0].contents[0]\n",
    "        if div_class.__contains__('article__content'):\n",
    "            for p in d.select('p'):\n",
    "                if len(p.contents)>0:\n",
    "                    body = body + str(p.contents[0])\n",
    "    print(link)\n",
    "    print(title)\n",
    "    print('#################################################################################')\n",
    "    print(body)\n",
    "    knowledge_dict[title] = body\n",
    "\n",
    "print(knowledge_dict)"
   ]
  },
  {
   "cell_type": "code",
   "execution_count": null,
   "metadata": {},
   "outputs": [],
   "source": [
    "\n",
    "soup = BeautifulSoup(res.content, 'html.parser')\n",
    "articles = soup.select('h3')\n",
    "for article in articles:\n",
    "    article_class = article.get('class')\n",
    "    #print(article_class)\n",
    "    if article_class[0] == 'article-list-item__heading':\n",
    "        print(article.select('h4')[0].content)\n",
    "        print(article.select('a')[0].get('href'))\n"
   ]
  }
 ],
 "metadata": {
  "kernelspec": {
   "display_name": "base",
   "language": "python",
   "name": "python3"
  },
  "language_info": {
   "codemirror_mode": {
    "name": "ipython",
    "version": 3
   },
   "file_extension": ".py",
   "mimetype": "text/x-python",
   "name": "python",
   "nbconvert_exporter": "python",
   "pygments_lexer": "ipython3",
   "version": "3.11.4"
  },
  "orig_nbformat": 4
 },
 "nbformat": 4,
 "nbformat_minor": 2
}
