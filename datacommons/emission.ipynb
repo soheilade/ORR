{
 "cells": [
  {
   "cell_type": "code",
   "execution_count": 3,
   "metadata": {},
   "outputs": [
    {
     "name": "stdout",
     "output_type": "stream",
     "text": [
      "{'europe': ['country/ALA', 'country/ALB', 'country/AND', 'country/ANT', 'country/ARM', 'country/AUT', 'country/AZE', 'country/BEL', 'country/BGR', 'country/BIH', 'country/BLM', 'country/BLR', 'country/CHE', 'country/CYP', 'country/CZE', 'country/DEU', 'country/DNK', 'country/ESP', 'country/EST', 'country/FIN', 'country/FRA', 'country/FRO', 'country/FXX', 'country/GBR', 'country/GEO', 'country/GGY', 'country/GIB', 'country/GLP', 'country/GRC', 'country/GUF', 'country/HRV', 'country/HUN', 'country/IMN', 'country/IRL', 'country/ISL', 'country/ITA', 'country/JEY', 'country/KAZ', 'country/LIE', 'country/LTU', 'country/LUX', 'country/LVA', 'country/MAF', 'country/MCO', 'country/MDA', 'country/MKD', 'country/MLT', 'country/MNE', 'country/MTQ', 'country/MYT', 'country/NLD', 'country/NOR', 'country/POL', 'country/PRT', 'country/PYF', 'country/REU', 'country/ROU', 'country/RUS', 'country/SHN', 'country/SJM', 'country/SMR', 'country/SPM', 'country/SRB', 'country/SVK', 'country/SVN', 'country/SWE', 'country/TCA', 'country/TUR', 'country/UKR', 'country/VAT', 'country/WLF', 'country/XKS', 'country/YUG']}\n"
     ]
    }
   ],
   "source": [
    "! pip install datacommons_pandas --upgrade --quiet\n",
    "import datacommons_pandas as dc\n",
    "countries = dc.get_places_in(['europe'], 'Country')\n",
    "print(countries)"
   ]
  },
  {
   "cell_type": "code",
   "execution_count": null,
   "metadata": {},
   "outputs": [],
   "source": [
    "data = dc.build_multivariate_dataframe(city_dcids,\n",
    "                                       [\"Percent_Person_Obesity\", # Prevalence of obesity from CDC\n",
    "                                        \"Percent_Person_WithHighBloodPressure\", # Prevalence of high blood pressure from CDC\n",
    "                                        \"UnemploymentRate_Person\", # Unemployment rate from BLS\n",
    "                                        \"Count_Person_BelowPovertyLevelInThePast12Months\", # Persons living below the poverty line from Census\n",
    "                                        \"Count_Person\", # Total population from Census\n",
    "                                       ]\n",
    "                                      )\n",
    "# Display the first five rows.\n",
    "data.head(5)"
   ]
  }
 ],
 "metadata": {
  "kernelspec": {
   "display_name": "base",
   "language": "python",
   "name": "python3"
  },
  "language_info": {
   "codemirror_mode": {
    "name": "ipython",
    "version": 3
   },
   "file_extension": ".py",
   "mimetype": "text/x-python",
   "name": "python",
   "nbconvert_exporter": "python",
   "pygments_lexer": "ipython3",
   "version": "3.11.4"
  },
  "orig_nbformat": 4
 },
 "nbformat": 4,
 "nbformat_minor": 2
}
