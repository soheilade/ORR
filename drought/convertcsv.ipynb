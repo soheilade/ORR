{
 "cells": [
  {
   "cell_type": "code",
   "execution_count": 31,
   "metadata": {},
   "outputs": [
    {
     "name": "stderr",
     "output_type": "stream",
     "text": [
      "/tmp/ipykernel_26651/1450372029.py:13: FutureWarning: Series.__getitem__ treating keys as positions is deprecated. In a future version, integer keys will always be treated as labels (consistent with DataFrame behavior). To access a value by position, use `ser.iloc[pos]`\n",
      "  drought_data.append([row[1], columns.array[year] , row[year]])\n"
     ]
    }
   ],
   "source": [
    "import pandas as pd\n",
    "df = pd.read_csv('/home/dani/ORR/ORR/drought/drough.tsv', sep='\\t')\n",
    "columns = df.columns\n",
    "\n",
    "\n",
    "df_drough_cols = ['country','year', 'drought_impact']\n",
    "drought_data = []\n",
    "for i, row in df.iterrows():\n",
    "    if i<2:\n",
    "        continue\n",
    "    year = 3\n",
    "    for year in range(3,26):\n",
    "        drought_data.append([row[1], columns.array[year] , row[year]])\n",
    "\n",
    "drough_df = pd.DataFrame(drought_data, columns= df_drough_cols )\n",
    "\n",
    "drough_df.to_csv(\"drought.csv\", index=False)\n",
    "\n"
   ]
  }
 ],
 "metadata": {
  "kernelspec": {
   "display_name": "base",
   "language": "python",
   "name": "python3"
  },
  "language_info": {
   "codemirror_mode": {
    "name": "ipython",
    "version": 3
   },
   "file_extension": ".py",
   "mimetype": "text/x-python",
   "name": "python",
   "nbconvert_exporter": "python",
   "pygments_lexer": "ipython3",
   "version": "3.11.4"
  },
  "orig_nbformat": 4
 },
 "nbformat": 4,
 "nbformat_minor": 2
}
