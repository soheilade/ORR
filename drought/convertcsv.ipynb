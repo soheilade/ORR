{
 "cells": [
  {
   "cell_type": "code",
   "execution_count": 22,
   "metadata": {},
   "outputs": [
    {
     "name": "stdout",
     "output_type": "stream",
     "text": [
      "2000\n",
      "European Union (aggregate changing according to the context)\n",
      "European Union - 27 countries (from 2020)\n",
      "Belgium\n",
      "Bulgaria\n",
      "Czechia\n",
      "Denmark\n",
      "Germany\n",
      "Estonia\n",
      "Ireland\n",
      "Greece\n",
      "Spain\n",
      "France\n",
      "Croatia\n",
      "Italy\n",
      "Cyprus\n",
      "Latvia\n",
      "Lithuania\n",
      "Luxembourg\n",
      "Hungary\n",
      "Malta\n",
      "Netherlands\n",
      "Austria\n",
      "Poland\n",
      "Portugal\n",
      "Romania\n",
      "Slovenia\n",
      "Slovakia\n",
      "Finland\n",
      "Sweden\n",
      "Iceland\n",
      "Liechtenstein\n",
      "Norway\n",
      "Switzerland\n",
      "Bosnia and Herzegovina\n",
      "Montenegro\n",
      "North Macedonia\n",
      "Albania\n",
      "Serbia\n",
      "Türkiye\n",
      "Kosovo (under United Nations Security Council Resolution 1244/99)\n"
     ]
    },
    {
     "name": "stderr",
     "output_type": "stream",
     "text": [
      "/tmp/ipykernel_26651/3876686444.py:9: FutureWarning: Series.__getitem__ treating keys as positions is deprecated. In a future version, integer keys will always be treated as labels (consistent with DataFrame behavior). To access a value by position, use `ser.iloc[pos]`\n",
      "  print(row[1])\n"
     ]
    }
   ],
   "source": [
    "import pandas as pd\n",
    "df = pd.read_csv('/home/dani/ORR/ORR/drought/drough.tsv', sep='\\t')\n",
    "columns = df.columns\n",
    "\n",
    "print(columns.array[3])\n",
    "\n",
    "df_drough_impact = pd.DataFrame(columns=['country','year', 'drought_impact'])\n",
    "year = 3\n",
    "for i, row in df.iterrows():\n",
    "    print(str(row[1])+ str(columns.array[year])+ str(row[year]))\n",
    "    year = year + 1"
   ]
  }
 ],
 "metadata": {
  "kernelspec": {
   "display_name": "base",
   "language": "python",
   "name": "python3"
  },
  "language_info": {
   "codemirror_mode": {
    "name": "ipython",
    "version": 3
   },
   "file_extension": ".py",
   "mimetype": "text/x-python",
   "name": "python",
   "nbconvert_exporter": "python",
   "pygments_lexer": "ipython3",
   "version": "3.11.4"
  },
  "orig_nbformat": 4
 },
 "nbformat": 4,
 "nbformat_minor": 2
}
