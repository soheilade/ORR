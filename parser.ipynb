{
 "cells": [
  {
   "cell_type": "code",
   "execution_count": null,
   "metadata": {},
   "outputs": [],
   "source": [
    "! pip install langchain\n",
    "! pip install sentence_transformers\n",
    "! pip install faiss-gpu"
   ]
  },
  {
   "cell_type": "code",
   "execution_count": 1,
   "metadata": {},
   "outputs": [],
   "source": [
    "from langchain.text_splitter import RecursiveCharacterTextSplitter\n",
    "\n",
    "with open(\"./all_content.txt\") as f:\n",
    "    text_file = f.read()\n",
    "\n",
    "text_splitter = RecursiveCharacterTextSplitter(\n",
    "                                      chunk_size=500,\n",
    "                                      chunk_overlap=20)\n",
    "\n",
    "chunks = text_splitter.split_text(text_file)"
   ]
  },
  {
   "cell_type": "code",
   "execution_count": null,
   "metadata": {},
   "outputs": [],
   "source": [
    "from langchain.embeddings.huggingface import HuggingFaceEmbeddings\n",
    "from langchain.vectorstores import FAISS\n",
    "\n",
    "embeddings = HuggingFaceEmbeddings()\n",
    "vectorStore = FAISS.from_texts(chunks, embeddings)"
   ]
  },
  {
   "cell_type": "code",
   "execution_count": null,
   "metadata": {},
   "outputs": [],
   "source": [
    "from langchain import HuggingFaceHub\n",
    "import os\n",
    "\n",
    "\n",
    "os.environ[\"HUGGINGFACEHUB_API_TOKEN\"] = os.getenv('HUGGINGFACEHUB_API_TOKEN')\n",
    "llm=HuggingFaceHub(repo_id=\"tiiuae/falcon-7b-instruct\", model_kwargs={\"temperature\":0.1 ,\"max_length\":512})"
   ]
  },
  {
   "cell_type": "code",
   "execution_count": null,
   "metadata": {},
   "outputs": [],
   "source": [
    "from langchain.chains import RetrievalQA\n",
    "from langchain.schema import retriever\n",
    "\n",
    "chain = RetrievalQA.from_chain_type(llm=llm, chain_type=\"stuff\", retriever=vectorStore.as_retriever())"
   ]
  },
  {
   "cell_type": "code",
   "execution_count": null,
   "metadata": {},
   "outputs": [],
   "source": [
    "query=\"tell me stories about recycle electrical waste?\"\n",
    "chain.run(query)"
   ]
  },
  {
   "cell_type": "markdown",
   "metadata": {},
   "source": [
    "\n",
    "\n",
    "1. In 2016, Quito, Ecuador, implemented a program to create electricity and compost from organic waste. The city's waste management system was designed to separate organic waste from other waste, and the electricity produced was used to power public lighting and other infrastructure. The program was a success, and it was later expanded to other cities in Ecuador.\n",
    "\n",
    "2. In 2016, the city of Houston, Texas, USA, launched a program to incentivize reuse of construction materials. The program, called the Reuse Warehouse, allows homeowners and businesses to donate unwanted materials to the city, which then repurposes them for public use. The program has been a success, and it has been expanded to other cities in the US.\n",
    "\n",
    "3. In 2016, the city of Quito, Ecuador, implemented a program to create electricity and compost from organic waste. The city's waste management system was designed to separate organic waste from other waste, and the electricity produced was used to power public lighting and other infrastructure. The program was a success, and it was later expanded to other cities in Ecuador."
   ]
  }
 ],
 "metadata": {
  "kernelspec": {
   "display_name": "parse",
   "language": "python",
   "name": "python3"
  },
  "language_info": {
   "codemirror_mode": {
    "name": "ipython",
    "version": 3
   },
   "file_extension": ".py",
   "mimetype": "text/x-python",
   "name": "python",
   "nbconvert_exporter": "python",
   "pygments_lexer": "ipython3",
   "version": "3.10.13"
  },
  "orig_nbformat": 4
 },
 "nbformat": 4,
 "nbformat_minor": 2
}
