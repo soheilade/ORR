{
 "cells": [
  {
   "cell_type": "markdown",
   "metadata": {},
   "source": [
    "Lets starts with the basic model and ask its opinion about how to recycle electronics."
   ]
  },
  {
   "cell_type": "code",
   "execution_count": 18,
   "metadata": {},
   "outputs": [
    {
     "name": "stdout",
     "output_type": "stream",
     "text": [
      "Choice(finish_reason='stop', index=0, message=ChatCompletionMessage(content=\"Here are some steps to recycle electronics:\\n\\n1. Research local recycling programs: Look for local recycling centers or programs that accept electronics. Check with your city or town for specific information on their recycling facilities and guidelines.\\n\\n2. Check for manufacturer or retailer recycling programs: Many electronics manufacturers and retailers offer their own recycling programs. For example, Apple has an Apple Renew program where customers can trade in their old devices for recycling.\\n\\n3. Erase your personal data: Before recycling your electronics, make sure to remove all your personal data. Delete any sensitive information and perform a factory reset on your device to wipe it clean. This step is crucial to protect your privacy and prevent any potential data breaches.\\n\\n4. Gather your electronics: Collect all the electronic devices you wish to recycle. This may include computers, laptops, smartphones, tablets, printers, televisions, gaming consoles, and other electronic accessories.\\n\\n5. Remove batteries: Remove any batteries from your devices, as they may require separate recycling. Some recycling centers have specific battery recycling programs, or you can check with local retailers that accept batteries for recycling.\\n\\n6. Packaging: If you have the original packaging, such as boxes and Styrofoam, recycle them responsibly as well.\\n\\n7. Take it to a recycling center: Take your electronic devices to a designated recycling center or drop-off location. Be sure to follow their specific instructions and guidelines for dropping off your electronics.\\n\\n8. Mail-in or pick-up services: Some recycling programs offer mail-in options or pick-up services for larger items. Research local organizations or businesses that provide these services and follow their instructions for shipping or scheduling a pick-up.\\n\\n9. Donate or Sell: Consider donating or selling electronics that are still in good working condition. There may be local charities or organizations that accept used electronics or online platforms where you can list them for sale.\\n\\nRemember, not all electronics can be recycled in the same manner. Some devices may contain hazardous materials, so it's important to follow the recommended recycling guidelines to ensure their safe disposal.\", role='assistant', function_call=None, tool_calls=None))\n"
     ]
    }
   ],
   "source": [
    "from openai import OpenAI\n",
    "client = OpenAI()\n",
    "\n",
    "completion = client.chat.completions.create(\n",
    "  model=\"gpt-3.5-turbo\",\n",
    "  messages=[\n",
    "    {\"role\": \"user\", \"content\": \"how to recycle electronics?\"}\n",
    "  ]\n",
    ")\n",
    "\n",
    "print(completion.choices[0])\n"
   ]
  },
  {
   "cell_type": "markdown",
   "metadata": {},
   "source": [
    "The answer is too generic. There is no information about facilities in my geographics area. Now, lets give some instructions about how we are expecting the answer to be formatted."
   ]
  },
  {
   "cell_type": "code",
   "execution_count": null,
   "metadata": {},
   "outputs": [],
   "source": [
    "completion = client.chat.completions.create(\n",
    "  model=\"gpt-3.5-turbo\",\n",
    "  messages=[\n",
    "    {\"role\": \"system\", \"content\": \"You are a friendly and helpful teaching assistant. You explain concepts in great depth using simple terms, and you give examples to help people learn. At the end of each explanation, you ask a question to check for understanding\"},\n",
    "    {\"role\": \"user\", \"content\": \"how to recycle electronics?\"}\n",
    "  ]\n",
    ")\n",
    "print(completion.choices[0])"
   ]
  },
  {
   "cell_type": "markdown",
   "metadata": {},
   "source": [
    "The answer is basically the same as above with some twists, still too generic. Lets add some inofrmation about the specific electronics we want to recycle and give also our current location."
   ]
  },
  {
   "cell_type": "code",
   "execution_count": 19,
   "metadata": {},
   "outputs": [],
   "source": [
    "completion = client.chat.completions.create(\n",
    "  model=\"gpt-3.5-turbo\",\n",
    "  messages=[\n",
    "    {\"role\": \"system\", \"content\": \"You are a friendly and helpful teaching assistant. You explain concepts in great depth using simple terms, and you give examples to help people learn. At the end of each explanation, you ask a question to check for understanding\"},\n",
    "    {\"role\": \"user\", \"content\": \"how to recycle motorolla 4g pro in Aalborg?\"}\n",
    "  ],\n",
    "  temperature=0,\n",
    ")\n",
    "print(completion.choices[0])"
   ]
  },
  {
   "cell_type": "markdown",
   "metadata": {},
   "source": [
    "Still there is no concreate step about where to go and how to finish off the recycling."
   ]
  }
 ],
 "metadata": {
  "kernelspec": {
   "display_name": "Python 3",
   "language": "python",
   "name": "python3"
  },
  "language_info": {
   "codemirror_mode": {
    "name": "ipython",
    "version": 3
   },
   "file_extension": ".py",
   "mimetype": "text/x-python",
   "name": "python",
   "nbconvert_exporter": "python",
   "pygments_lexer": "ipython3",
   "version": "3.11.5"
  }
 },
 "nbformat": 4,
 "nbformat_minor": 2
}
