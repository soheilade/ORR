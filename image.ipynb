{
 "cells": [
  {
   "cell_type": "code",
   "execution_count": 2,
   "metadata": {},
   "outputs": [
    {
     "name": "stderr",
     "output_type": "stream",
     "text": [
      "2023-11-20 20:34:53.332214: W tensorflow/stream_executor/platform/default/dso_loader.cc:60] Could not load dynamic library 'libcudart.so.11.0'; dlerror: libcudart.so.11.0: cannot open shared object file: No such file or directory\n",
      "2023-11-20 20:34:53.332256: I tensorflow/stream_executor/cuda/cudart_stub.cc:29] Ignore above cudart dlerror if you do not have a GPU set up on your machine.\n",
      "2023-11-20 20:34:55.658337: I tensorflow/compiler/jit/xla_cpu_device.cc:41] Not creating XLA devices, tf_xla_enable_xla_devices not set\n",
      "2023-11-20 20:34:55.658610: W tensorflow/stream_executor/platform/default/dso_loader.cc:60] Could not load dynamic library 'libcuda.so.1'; dlerror: libcuda.so.1: cannot open shared object file: No such file or directory\n",
      "2023-11-20 20:34:55.658631: W tensorflow/stream_executor/cuda/cuda_driver.cc:326] failed call to cuInit: UNKNOWN ERROR (303)\n",
      "2023-11-20 20:34:55.658652: I tensorflow/stream_executor/cuda/cuda_diagnostics.cc:156] kernel driver does not appear to be running on this host (celty): /proc/driver/nvidia/version does not exist\n",
      "2023-11-20 20:34:55.659312: I tensorflow/compiler/jit/xla_gpu_device.cc:99] Not creating XLA devices, tf_xla_enable_xla_devices not set\n"
     ]
    },
    {
     "name": "stdout",
     "output_type": "stream",
     "text": [
      "/home/soheila/ORR/images/boschwm.jpg\n"
     ]
    },
    {
     "name": "stderr",
     "output_type": "stream",
     "text": [
      "2023-11-20 20:34:58.312051: I tensorflow/compiler/mlir/mlir_graph_optimization_pass.cc:116] None of the MLIR optimization passes are enabled (registered 2)\n",
      "2023-11-20 20:34:58.313192: I tensorflow/core/platform/profile_utils/cpu_utils.cc:112] CPU Frequency: 2799925000 Hz\n"
     ]
    },
    {
     "name": "stdout",
     "output_type": "stream",
     "text": [
      "Downloading data from https://storage.googleapis.com/download.tensorflow.org/data/imagenet_class_index.json\n",
      "40960/35363 [==================================] - 0s 1us/step\n",
      "iPod  :  31.157544255256653\n",
      "magnetic_compass  :  11.807137727737427\n",
      "loudspeaker  :  11.620327085256577\n",
      "washer  :  10.228317230939865\n",
      "spotlight  :  5.151406675577164\n"
     ]
    }
   ],
   "source": [
    "from imageai.Classification import ImageClassification\n",
    "import os\n",
    "\n",
    "\n",
    "execution_path = os.getcwd()\n",
    "prediction = ImageClassification()\n",
    "prediction.setModelTypeAsResNet50()\n",
    "prediction.setModelPath( execution_path + \"/resnet50_imagenet_tf.2.0.h5\")\n",
    "prediction.loadModel()\n",
    "\n",
    "image_path = execution_path +\"/images/boschwm.jpg\"\n",
    "print(image_path)\n",
    "predictions, percentage_probabilities = prediction.classifyImage(image_path, result_count=5)\n",
    "for index in range(len(predictions)):\n",
    "  print(predictions[index] , \" : \" , percentage_probabilities[index])\n",
    "\n"
   ]
  },
  {
   "cell_type": "markdown",
   "metadata": {},
   "source": [
    "so the imageai model thinks that our Bosch washing machine is an ipod, and then we ask the openai to give us recycling recommendations for the prediction with highest score (i.e., ipod)"
   ]
  },
  {
   "cell_type": "code",
   "execution_count": 3,
   "metadata": {},
   "outputs": [
    {
     "name": "stdout",
     "output_type": "stream",
     "text": [
      "Choice(finish_reason='stop', index=0, message=ChatCompletionMessage(content='Recycling your old iPod is a responsible way to dispose of it and reduce electronic waste. Here\\'s a step-by-step guide on how to recycle your iPod:\\n\\n1. Clear your iPod: Before recycling, make sure to backup any important data from your iPod using iTunes or iCloud. Then, erase all content and settings by going to \"Settings\" > \"General\" > \"Reset\" > \"Erase All Content and Settings\". This will ensure your personal information is removed from the device.\\n\\n2. Determine the recycling options: Check if the manufacturer, Apple, has a recycling program for iPods. Apple generally encourages customers to recycle their old devices through their trade-in programs or recycling initiatives. Visit the Apple website or contact their customer support for more information on the specific recycling programs available in your region.\\n\\n3. Retailers or e-recycling centers: Many retailers and e-recycling centers also accept old electronics for recycling. Check with local electronic stores, big-box retailers, or recycling centers in your area to see if they accept iPods for recycling. Some examples include Best Buy, Staples, or ecoATM.\\n\\n4. Mail-in recycling programs: Some companies offer mail-in programs where you can ship your iPod for recycling. They provide pre-paid shipping labels for your convenience. Research organizations or companies that specialize in electronic recycling, such as Recycle My Electronics, to see if they accept iPods through their mail-in programs.\\n\\n5. Donation opportunities: If your iPod is still functional and in good condition, consider donating it to someone in need. Local schools, community centers, charities, or non-profit organizations might appreciate the donation of an iPod for educational or recreational purposes.\\n\\n6. Proper disposal: If all recycling options are exhausted or not available, take your iPod to an authorized electronics recycling facility or a hazardous waste collection center. They have processes in place to safely dispose of electronic waste without harming the environment.\\n\\nRemember, it\\'s essential to recycle your iPod responsibly to prevent hazardous materials from ending up in landfills and to promote the reuse of valuable resources.', role='assistant', function_call=None, tool_calls=None))\n"
     ]
    }
   ],
   "source": [
    "from openai import OpenAI\n",
    "\n",
    "# finding recycling options for first prediction\n",
    "client = OpenAI()\n",
    "\n",
    "completion = client.chat.completions.create(\n",
    "  model=\"gpt-3.5-turbo\",\n",
    "  messages=[\n",
    "    {\"role\": \"user\", \"content\": \"how to recycle \" + str(predictions[0]) + \"?\"}\n",
    "  ]\n",
    ")\n",
    "\n",
    "print(completion.choices[0])"
   ]
  }
 ],
 "metadata": {
  "kernelspec": {
   "display_name": "Python 3",
   "language": "python",
   "name": "python3"
  },
  "language_info": {
   "codemirror_mode": {
    "name": "ipython",
    "version": 3
   },
   "file_extension": ".py",
   "mimetype": "text/x-python",
   "name": "python",
   "nbconvert_exporter": "python",
   "pygments_lexer": "ipython3",
   "version": "3.8.18"
  }
 },
 "nbformat": 4,
 "nbformat_minor": 2
}
